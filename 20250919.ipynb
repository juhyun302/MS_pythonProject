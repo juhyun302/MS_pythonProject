{
 "cells": [
  {
   "cell_type": "markdown",
   "id": "cfcf84e5",
   "metadata": {},
   "source": [
    "# 2025-09-19"
   ]
  },
  {
   "cell_type": "code",
   "execution_count": 1,
   "id": "42ac5061",
   "metadata": {},
   "outputs": [
    {
     "name": "stdout",
     "output_type": "stream",
     "text": [
      "뽀야미 최고!!\n"
     ]
    }
   ],
   "source": [
    "print(\"뽀야미 최고!!\")"
   ]
  },
  {
   "cell_type": "code",
   "execution_count": 3,
   "id": "0c2e8021",
   "metadata": {},
   "outputs": [
    {
     "name": "stdout",
     "output_type": "stream",
     "text": [
      "20\n",
      "10 + 10\n"
     ]
    }
   ],
   "source": [
    "print(10 + 10)\n",
    "print(\"10 + 10\")"
   ]
  },
  {
   "cell_type": "markdown",
   "id": "73ca07d3",
   "metadata": {},
   "source": []
  },
  {
   "cell_type": "markdown",
   "id": "a1ff430c",
   "metadata": {},
   "source": [
    "## 변수"
   ]
  },
  {
   "cell_type": "code",
   "execution_count": 6,
   "id": "1c8360dc",
   "metadata": {},
   "outputs": [
    {
     "name": "stdout",
     "output_type": "stream",
     "text": [
      "10\n",
      "4\n",
      "21\n",
      "2.3333333333333335\n",
      "1\n",
      "2\n",
      "343\n"
     ]
    }
   ],
   "source": [
    "num1 = 3\n",
    "num2 = 7\n",
    "print(num2 + num1) #덧셈\n",
    "print(num2 - num1) #뺄셈\n",
    "print(num2 * num1) #곱셈\n",
    "print(num2 / num1) #나눗셈\n",
    "print(num2 % num1) #나머지\n",
    "print(num2 // num1) #몫\n",
    "print(num2 ** num1) #제곱"
   ]
  },
  {
   "cell_type": "code",
   "execution_count": 9,
   "id": "eea8039f",
   "metadata": {},
   "outputs": [
    {
     "data": {
      "text/plain": [
       "'뽀야미!'"
      ]
     },
     "execution_count": 9,
     "metadata": {},
     "output_type": "execute_result"
    }
   ],
   "source": [
    "input(\"누가 최고라고?\")"
   ]
  },
  {
   "cell_type": "code",
   "execution_count": 18,
   "id": "79f5f52d",
   "metadata": {},
   "outputs": [
    {
     "name": "stdout",
     "output_type": "stream",
     "text": [
      "9\n",
      "3\n",
      "18\n",
      "2.0\n"
     ]
    }
   ],
   "source": [
    "num1, num2 = map(int,input(\"두 수를 입력하세요: \").split())\n",
    "print(num1 + num2)\n",
    "print(num1 - num2)\n",
    "print(num1 * num2)\n",
    "print(num1 / num2)"
   ]
  },
  {
   "cell_type": "code",
   "execution_count": null,
   "id": "b2d72ba1",
   "metadata": {},
   "outputs": [
    {
     "name": "stdout",
     "output_type": "stream",
     "text": [
      "'낮말'은 새가 듣고 '밤말'은 쥐가 듣는다.\n"
     ]
    }
   ],
   "source": [
    "print(\"'낮말'은 새가 듣고 '밤말'은 쥐가 듣는다.\")"
   ]
  },
  {
   "cell_type": "code",
   "execution_count": 20,
   "id": "4e73e084",
   "metadata": {},
   "outputs": [
    {
     "name": "stdout",
     "output_type": "stream",
     "text": [
      "7 + 3 = 10\n",
      "더하기의 결과: 7+3=10\n"
     ]
    }
   ],
   "source": [
    "num1=7\n",
    "num2=3\n",
    "print(num1, \"+\", num2, '=', num1+num2)\n",
    "print(f\"더하기의 결과: {num1}+{num2}={num1+num2}\")"
   ]
  },
  {
   "cell_type": "code",
   "execution_count": 28,
   "id": "4670fe08",
   "metadata": {},
   "outputs": [
    {
     "name": "stdout",
     "output_type": "stream",
     "text": [
      "김밥주문갯수: 2\n",
      "떡볶이주문갯수: 1\n",
      "라면주문갯수: 2\n",
      "지불하실 금액은 15500\n"
     ]
    }
   ],
   "source": [
    "count1 = int(input(\"김밥주문갯수: \"))\n",
    "count2 = int(input(\"떡볶이주문갯수: \"))\n",
    "count3 = int(input(\"라면주문갯수: \"))\n",
    "kimbab=3000*count1\n",
    "tteockbok=2500*count2\n",
    "raman=3500*count3\n",
    "print(\"김밥주문갯수:\",count1)\n",
    "print(\"떡볶이주문갯수:\",count2)\n",
    "print(\"라면주문갯수:\",count3)\n",
    "print(f\"지불하실 금액은 {kimbab + tteockbok + raman}\")"
   ]
  },
  {
   "cell_type": "markdown",
   "id": "4f5bd477",
   "metadata": {},
   "source": [
    "## 조건문"
   ]
  },
  {
   "cell_type": "code",
   "execution_count": 30,
   "id": "0b1d885a",
   "metadata": {},
   "outputs": [
    {
     "name": "stdout",
     "output_type": "stream",
     "text": [
      "홀수입니다.\n"
     ]
    }
   ],
   "source": [
    "# 조건에 따라서 명령어의 실행여부가 결정\n",
    "\n",
    "num = int(input(\"숫자를 입력하세요:\"))\n",
    "if num % 2 == 0:\n",
    "    print(\"짝수입니다.\")\n",
    "else:\n",
    "    print(\"홀수입니다.\")"
   ]
  },
  {
   "cell_type": "code",
   "execution_count": 31,
   "id": "3d226b6f",
   "metadata": {},
   "outputs": [
    {
     "name": "stdout",
     "output_type": "stream",
     "text": [
      "F\n"
     ]
    }
   ],
   "source": [
    "score = int(input(\"너의 점수는?: \"))\n",
    "if score>90:\n",
    "    print(\"A\")\n",
    "elif score>=80:\n",
    "    print(\"B\")\n",
    "elif score>=70:\n",
    "    print(\"C\")\n",
    "elif score>=60:\n",
    "    print(\"D\")\n",
    "else:\n",
    "    print(\"F\")"
   ]
  },
  {
   "cell_type": "markdown",
   "id": "f9327caf",
   "metadata": {},
   "source": [
    "## 반복문"
   ]
  },
  {
   "cell_type": "code",
   "execution_count": 33,
   "id": "8e76e380",
   "metadata": {},
   "outputs": [
    {
     "name": "stdout",
     "output_type": "stream",
     "text": [
      "55\n"
     ]
    }
   ],
   "source": [
    "sum = 0\n",
    "for i in range(1,11):\n",
    "    sum += i\n",
    "print(sum)"
   ]
  },
  {
   "cell_type": "code",
   "execution_count": 35,
   "id": "030eedb2",
   "metadata": {},
   "outputs": [
    {
     "name": "stdout",
     "output_type": "stream",
     "text": [
      "3628800\n"
     ]
    }
   ],
   "source": [
    "mul = 1\n",
    "for i in range(1,11):\n",
    "    mul *= i\n",
    "print(mul)"
   ]
  },
  {
   "cell_type": "code",
   "execution_count": 36,
   "id": "0411b65a",
   "metadata": {},
   "outputs": [
    {
     "name": "stdout",
     "output_type": "stream",
     "text": [
      "3 * 1 = 3\n",
      "3 * 2 = 6\n",
      "3 * 3 = 9\n",
      "3 * 4 = 12\n",
      "3 * 5 = 15\n",
      "3 * 6 = 18\n",
      "3 * 7 = 21\n",
      "3 * 8 = 24\n",
      "3 * 9 = 27\n"
     ]
    }
   ],
   "source": [
    "num = int(input(\"몇단을 외울까용?:\"))\n",
    "for i in range(1,10):\n",
    "    print(f\"{num} * {i} = {num * i}\")"
   ]
  },
  {
   "cell_type": "code",
   "execution_count": 44,
   "id": "254ddbcf",
   "metadata": {},
   "outputs": [
    {
     "name": "stdout",
     "output_type": "stream",
     "text": [
      "10\n"
     ]
    }
   ],
   "source": [
    "a=1\n",
    "b = int(input(\"정수 하나 고르세용:\"))\n",
    "c=0\n",
    "while a <= b:\n",
    "    c +=a\n",
    "    a += 1\n",
    "print(c)"
   ]
  },
  {
   "cell_type": "code",
   "execution_count": 45,
   "id": "9609c4d6",
   "metadata": {},
   "outputs": [
    {
     "name": "stdout",
     "output_type": "stream",
     "text": [
      "3*1=3\n",
      "3*2=6\n",
      "3*3=9\n",
      "3*4=12\n",
      "3*5=15\n",
      "3*6=18\n",
      "3*7=21\n",
      "3*8=24\n",
      "3*9=27\n"
     ]
    }
   ],
   "source": [
    "a=1\n",
    "num = int(input(\"정수 하나 고르세용:\"))\n",
    "while a <= 9:\n",
    "    print(f\"{num}*{a}={num*a}\")\n",
    "    a += 1"
   ]
  },
  {
   "cell_type": "code",
   "execution_count": 46,
   "id": "0e4a050a",
   "metadata": {},
   "outputs": [],
   "source": [
    "promt = \"\"\"\n",
    "1. Add\n",
    "2. Del\n",
    "3. List\n",
    "4. Quit\n",
    "\n",
    "Enter number: \"\"\""
   ]
  },
  {
   "cell_type": "markdown",
   "id": "f488b8fa",
   "metadata": {},
   "source": [
    "### 키오스크 팁"
   ]
  },
  {
   "cell_type": "code",
   "execution_count": 47,
   "id": "d1def9c0",
   "metadata": {},
   "outputs": [
    {
     "name": "stdout",
     "output_type": "stream",
     "text": [
      "\n",
      "1. Add\n",
      "2. Del\n",
      "3. List\n",
      "4. Quit\n",
      "\n",
      "Enter number: \n"
     ]
    }
   ],
   "source": [
    "number = 0\n",
    "while number != 4:\n",
    "    print(promt)\n",
    "    number = int(input(\"원하는 메뉴의 번호를 입력하세요:\"))"
   ]
  },
  {
   "cell_type": "markdown",
   "id": "92e34369",
   "metadata": {},
   "source": [
    "#### break, continue"
   ]
  },
  {
   "cell_type": "code",
   "execution_count": 49,
   "id": "284d791f",
   "metadata": {},
   "outputs": [
    {
     "name": "stdout",
     "output_type": "stream",
     "text": [
      "정수: 6, 합계: 21\n"
     ]
    }
   ],
   "source": [
    "# 1부터 10까지 더하되, 합이 20 이상이 되는 때의 정수 값을 찾아라\n",
    "\n",
    "sum = 0\n",
    "for i in range(1,11):\n",
    "    sum += i\n",
    "    if sum > 20:\n",
    "        print(f\"정수: {i}, 합계: {sum}\")\n",
    "        break\n"
   ]
  },
  {
   "cell_type": "code",
   "execution_count": 2,
   "id": "d763622d",
   "metadata": {},
   "outputs": [
    {
     "name": "stdout",
     "output_type": "stream",
     "text": [
      "값이 너무 커요\n",
      "값이 너무 커요\n",
      "값이 너무 짝아요\n",
      "값이 너무 짝아요\n",
      "정답입니다~~~~~\n"
     ]
    }
   ],
   "source": [
    "import random\n",
    "answer = random.randint(1,100)\n",
    "while True:\n",
    "    a = int(input(\"숫자를 맞춰주세요: \"))\n",
    "    if a > answer:\n",
    "        print(\"값이 너무 커요\")\n",
    "        continue\n",
    "    elif a < answer:\n",
    "        print(\"값이 너무 짝아요\")\n",
    "        continue\n",
    "    else:\n",
    "        print(\"정답입니다~~~~~\")\n",
    "        break\n"
   ]
  },
  {
   "cell_type": "code",
   "execution_count": 1,
   "id": "74962733",
   "metadata": {},
   "outputs": [
    {
     "name": "stdout",
     "output_type": "stream",
     "text": [
      "1\n",
      "2\n",
      "4\n",
      "7\n",
      "8\n",
      "11\n",
      "13\n",
      "14\n",
      "16\n",
      "17\n",
      "19\n"
     ]
    }
   ],
   "source": [
    "# 20 보다 작은 정수 중에서 3의 배수와 5의 배수를 제외하고 출력해 보자\n",
    "while True:\n",
    "    for i in range(1,21):\n",
    "        if i%3==0:\n",
    "            continue\n",
    "        elif i % 5 == 0:\n",
    "            continue\n",
    "        else:\n",
    "            print(i)\n",
    "    break"
   ]
  },
  {
   "cell_type": "code",
   "execution_count": 5,
   "id": "b55c2126",
   "metadata": {},
   "outputs": [
    {
     "name": "stdout",
     "output_type": "stream",
     "text": [
      "1 * 1 = 1\n",
      "1 * 2 = 2\n",
      "1 * 3 = 3\n",
      "1 * 4 = 4\n",
      "1 * 5 = 5\n",
      "1 * 6 = 6\n",
      "1 * 7 = 7\n",
      "1 * 8 = 8\n",
      "1 * 9 = 9\n",
      "*************\n",
      "2 * 1 = 2\n",
      "2 * 2 = 4\n",
      "2 * 3 = 6\n",
      "2 * 4 = 8\n",
      "2 * 5 = 10\n",
      "2 * 6 = 12\n",
      "2 * 7 = 14\n",
      "2 * 8 = 16\n",
      "2 * 9 = 18\n",
      "*************\n",
      "3 * 1 = 3\n",
      "3 * 2 = 6\n",
      "3 * 3 = 9\n",
      "3 * 4 = 12\n",
      "3 * 5 = 15\n",
      "3 * 6 = 18\n",
      "3 * 7 = 21\n",
      "3 * 8 = 24\n",
      "3 * 9 = 27\n",
      "*************\n",
      "4 * 1 = 4\n",
      "4 * 2 = 8\n",
      "4 * 3 = 12\n",
      "4 * 4 = 16\n",
      "4 * 5 = 20\n",
      "4 * 6 = 24\n",
      "4 * 7 = 28\n",
      "4 * 8 = 32\n",
      "4 * 9 = 36\n",
      "*************\n",
      "5 * 1 = 5\n",
      "5 * 2 = 10\n",
      "5 * 3 = 15\n",
      "5 * 4 = 20\n",
      "5 * 5 = 25\n",
      "5 * 6 = 30\n",
      "5 * 7 = 35\n",
      "5 * 8 = 40\n",
      "5 * 9 = 45\n",
      "*************\n",
      "6 * 1 = 6\n",
      "6 * 2 = 12\n",
      "6 * 3 = 18\n",
      "6 * 4 = 24\n",
      "6 * 5 = 30\n",
      "6 * 6 = 36\n",
      "6 * 7 = 42\n",
      "6 * 8 = 48\n",
      "6 * 9 = 54\n",
      "*************\n",
      "7 * 1 = 7\n",
      "7 * 2 = 14\n",
      "7 * 3 = 21\n",
      "7 * 4 = 28\n",
      "7 * 5 = 35\n",
      "7 * 6 = 42\n",
      "7 * 7 = 49\n",
      "7 * 8 = 56\n",
      "7 * 9 = 63\n",
      "*************\n",
      "8 * 1 = 8\n",
      "8 * 2 = 16\n",
      "8 * 3 = 24\n",
      "8 * 4 = 32\n",
      "8 * 5 = 40\n",
      "8 * 6 = 48\n",
      "8 * 7 = 56\n",
      "8 * 8 = 64\n",
      "8 * 9 = 72\n",
      "*************\n",
      "9 * 1 = 9\n",
      "9 * 2 = 18\n",
      "9 * 3 = 27\n",
      "9 * 4 = 36\n",
      "9 * 5 = 45\n",
      "9 * 6 = 54\n",
      "9 * 7 = 63\n",
      "9 * 8 = 72\n",
      "9 * 9 = 81\n",
      "*************\n"
     ]
    }
   ],
   "source": [
    "# 구구단을 외자~\n",
    "for dan in range(1,10):\n",
    "    for i in range(1, 10):\n",
    "        print(f\"{dan} * {i} = {dan * i}\")\n",
    "    print(\"*************\")"
   ]
  },
  {
   "cell_type": "code",
   "execution_count": 10,
   "id": "9c0281eb",
   "metadata": {},
   "outputs": [
    {
     "name": "stdout",
     "output_type": "stream",
     "text": [
      "2\t4\t6\t8\t10\t12\t14\t16\t18\t\n",
      "3\t6\t9\t12\t15\t18\t21\t24\t27\t\n",
      "4\t8\t12\t16\t20\t24\t28\t32\t36\t\n",
      "5\t10\t15\t20\t25\t30\t35\t40\t45\t\n",
      "6\t12\t18\t24\t30\t36\t42\t48\t54\t\n",
      "7\t14\t21\t28\t35\t42\t49\t56\t63\t\n",
      "8\t16\t24\t32\t40\t48\t56\t64\t72\t\n",
      "9\t18\t27\t36\t45\t54\t63\t72\t81\t\n"
     ]
    }
   ],
   "source": [
    "for dan in range(2,10):\n",
    "    for i in range(1,10):\n",
    "        print(f\"{dan * i}\",end = \"\\t\")\n",
    "    print(\"\")"
   ]
  },
  {
   "cell_type": "code",
   "execution_count": 12,
   "id": "c7376c09",
   "metadata": {},
   "outputs": [
    {
     "name": "stdout",
     "output_type": "stream",
     "text": [
      "         *\n",
      "        ***\n",
      "       *****\n",
      "      *******\n",
      "     *********\n",
      "    ***********\n",
      "   *************\n",
      "  ***************\n",
      " *****************\n",
      "*******************\n"
     ]
    }
   ],
   "source": [
    "height = int(input(\"높이를 설정하세용:\"))\n",
    "for i in range(1, height + 1):\n",
    "    blank = ' ' * (height - i)\n",
    "    star = '*' * (2 * i - 1)\n",
    "    print(blank + star)"
   ]
  },
  {
   "cell_type": "code",
   "execution_count": null,
   "id": "fdde7b29",
   "metadata": {},
   "outputs": [],
   "source": []
  }
 ],
 "metadata": {
  "kernelspec": {
   "display_name": "Python 3",
   "language": "python",
   "name": "python3"
  },
  "language_info": {
   "codemirror_mode": {
    "name": "ipython",
    "version": 3
   },
   "file_extension": ".py",
   "mimetype": "text/x-python",
   "name": "python",
   "nbconvert_exporter": "python",
   "pygments_lexer": "ipython3",
   "version": "3.11.8"
  }
 },
 "nbformat": 4,
 "nbformat_minor": 5
}
