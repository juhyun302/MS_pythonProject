{
 "cells": [
  {
   "cell_type": "markdown",
   "id": "cfcf84e5",
   "metadata": {},
   "source": [
    "# 2025-09-19"
   ]
  },
  {
   "cell_type": "code",
   "execution_count": 1,
   "id": "42ac5061",
   "metadata": {},
   "outputs": [
    {
     "name": "stdout",
     "output_type": "stream",
     "text": [
      "뽀야미 최고!!\n"
     ]
    }
   ],
   "source": [
    "print(\"뽀야미 최고!!\")"
   ]
  },
  {
   "cell_type": "code",
   "execution_count": 3,
   "id": "0c2e8021",
   "metadata": {},
   "outputs": [
    {
     "name": "stdout",
     "output_type": "stream",
     "text": [
      "20\n",
      "10 + 10\n"
     ]
    }
   ],
   "source": [
    "print(10 + 10)\n",
    "print(\"10 + 10\")"
   ]
  },
  {
   "cell_type": "markdown",
   "id": "73ca07d3",
   "metadata": {},
   "source": []
  },
  {
   "cell_type": "markdown",
   "id": "a1ff430c",
   "metadata": {},
   "source": [
    "## 변수"
   ]
  },
  {
   "cell_type": "code",
   "execution_count": 6,
   "id": "1c8360dc",
   "metadata": {},
   "outputs": [
    {
     "name": "stdout",
     "output_type": "stream",
     "text": [
      "10\n",
      "4\n",
      "21\n",
      "2.3333333333333335\n",
      "1\n",
      "2\n",
      "343\n"
     ]
    }
   ],
   "source": [
    "num1 = 3\n",
    "num2 = 7\n",
    "print(num2 + num1) #덧셈\n",
    "print(num2 - num1) #뺄셈\n",
    "print(num2 * num1) #곱셈\n",
    "print(num2 / num1) #나눗셈\n",
    "print(num2 % num1) #나머지\n",
    "print(num2 // num1) #몫\n",
    "print(num2 ** num1) #제곱"
   ]
  },
  {
   "cell_type": "code",
   "execution_count": 9,
   "id": "eea8039f",
   "metadata": {},
   "outputs": [
    {
     "data": {
      "text/plain": [
       "'뽀야미!'"
      ]
     },
     "execution_count": 9,
     "metadata": {},
     "output_type": "execute_result"
    }
   ],
   "source": [
    "input(\"누가 최고라고?\")"
   ]
  },
  {
   "cell_type": "code",
   "execution_count": 18,
   "id": "79f5f52d",
   "metadata": {},
   "outputs": [
    {
     "name": "stdout",
     "output_type": "stream",
     "text": [
      "9\n",
      "3\n",
      "18\n",
      "2.0\n"
     ]
    }
   ],
   "source": [
    "num1, num2 = map(int,input(\"두 수를 입력하세요: \").split())\n",
    "print(num1 + num2)\n",
    "print(num1 - num2)\n",
    "print(num1 * num2)\n",
    "print(num1 / num2)"
   ]
  },
  {
   "cell_type": "code",
   "execution_count": null,
   "id": "b2d72ba1",
   "metadata": {},
   "outputs": [
    {
     "name": "stdout",
     "output_type": "stream",
     "text": [
      "'낮말'은 새가 듣고 '밤말'은 쥐가 듣는다.\n"
     ]
    }
   ],
   "source": [
    "print(\"'낮말'은 새가 듣고 '밤말'은 쥐가 듣는다.\")"
   ]
  },
  {
   "cell_type": "code",
   "execution_count": 20,
   "id": "4e73e084",
   "metadata": {},
   "outputs": [
    {
     "name": "stdout",
     "output_type": "stream",
     "text": [
      "7 + 3 = 10\n",
      "더하기의 결과: 7+3=10\n"
     ]
    }
   ],
   "source": [
    "num1=7\n",
    "num2=3\n",
    "print(num1, \"+\", num2, '=', num1+num2)\n",
    "print(f\"더하기의 결과: {num1}+{num2}={num1+num2}\")"
   ]
  },
  {
   "cell_type": "code",
   "execution_count": 28,
   "id": "4670fe08",
   "metadata": {},
   "outputs": [
    {
     "name": "stdout",
     "output_type": "stream",
     "text": [
      "김밥주문갯수: 2\n",
      "떡볶이주문갯수: 1\n",
      "라면주문갯수: 2\n",
      "지불하실 금액은 15500\n"
     ]
    }
   ],
   "source": [
    "count1 = int(input(\"김밥주문갯수: \"))\n",
    "count2 = int(input(\"떡볶이주문갯수: \"))\n",
    "count3 = int(input(\"라면주문갯수: \"))\n",
    "kimbab=3000*count1\n",
    "tteockbok=2500*count2\n",
    "raman=3500*count3\n",
    "print(\"김밥주문갯수:\",count1)\n",
    "print(\"떡볶이주문갯수:\",count2)\n",
    "print(\"라면주문갯수:\",count3)\n",
    "print(f\"지불하실 금액은 {kimbab + tteockbok + raman}\")"
   ]
  },
  {
   "cell_type": "code",
   "execution_count": null,
   "id": "0b1d885a",
   "metadata": {},
   "outputs": [],
   "source": []
  }
 ],
 "metadata": {
  "kernelspec": {
   "display_name": "Python 3",
   "language": "python",
   "name": "python3"
  },
  "language_info": {
   "codemirror_mode": {
    "name": "ipython",
    "version": 3
   },
   "file_extension": ".py",
   "mimetype": "text/x-python",
   "name": "python",
   "nbconvert_exporter": "python",
   "pygments_lexer": "ipython3",
   "version": "3.11.8"
  }
 },
 "nbformat": 4,
 "nbformat_minor": 5
}
