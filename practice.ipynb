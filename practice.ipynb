{
 "cells": [
  {
   "cell_type": "markdown",
   "id": "8694fc8f",
   "metadata": {},
   "source": [
    "# 도전미션"
   ]
  },
  {
   "cell_type": "markdown",
   "id": "692f58e6",
   "metadata": {},
   "source": [
    "### 업그레이드미션 1 \n",
    "pay = 12345678  # 12345678원 \n",
    "#TODO: 100 미만 절사 처리해주세요 "
   ]
  },
  {
   "cell_type": "code",
   "execution_count": 2,
   "id": "b9fb733f",
   "metadata": {},
   "outputs": [
    {
     "name": "stdout",
     "output_type": "stream",
     "text": [
      "123456\n"
     ]
    }
   ],
   "source": [
    "pay = 12345678\n",
    "answer = pay // 100\n",
    "print(answer)"
   ]
  },
  {
   "cell_type": "markdown",
   "id": "9e05ac06",
   "metadata": {},
   "source": [
    "### 업그레이드미션 2  \n",
    "Todo: 변수 a에 저장된 값의 b자리 값을 계산하여\t 변수 c에 저장하는 코드를 설계하라  \n",
    "예를 들어 a에 1234가 저장되어 있고 b가 1일 경우 첫 번째 자리값인 4가 c에 저장된다.  \n",
    "a가 1234일때 b가 4일 경우는 4번째 자리값인 1이 c에 저장되어야 한다.  \n",
    "a = 1234 \n",
    "b = 1 "
   ]
  },
  {
   "cell_type": "code",
   "execution_count": 6,
   "id": "1973770b",
   "metadata": {},
   "outputs": [
    {
     "name": "stdout",
     "output_type": "stream",
     "text": [
      "3\n"
     ]
    }
   ],
   "source": [
    "a=input(\"a를 입력하시오:\")\n",
    "b=int(input(\"b를 입력하시오\"))\n",
    "answer = a[b-1]\n",
    "print(answer)"
   ]
  },
  {
   "cell_type": "markdown",
   "id": "1f4908d0",
   "metadata": {},
   "source": [
    "### 업그레이드미션 4 \n",
    "다음 그림과 같이 바둑돌의 개수를 늘려가며 삼각형 모양을 만들려고 합니다. n이 입력으로 주어질 때, n단계에서 사용된 바둑돌의 개수를 출력하는 코드를 작성하세요.  "
   ]
  },
  {
   "cell_type": "code",
   "execution_count": 16,
   "id": "ab7a54c6",
   "metadata": {},
   "outputs": [
    {
     "name": "stdout",
     "output_type": "stream",
     "text": [
      "10\n"
     ]
    }
   ],
   "source": [
    "n = int(input(\"n을 입력하세요:\"))\n",
    "sum = 0\n",
    "while n >= 1:\n",
    "    sum += n\n",
    "    n -= 1 \n",
    "print(sum)"
   ]
  },
  {
   "cell_type": "markdown",
   "id": "d14c3252",
   "metadata": {},
   "source": [
    "### 5번 \n",
    "정수 num1, num2가 입력으로 주어질 때, 첫 번째 줄에는 num1과 num2를 곱한 수를, 두 번째 줄에는 num1을 num2번 반복하여 출력하도록 코드를 작성해주세요 \n",
    "\n",
    "입출력 예 #1 \n",
    "\n",
    "num1이 4, num2가 3이므로 첫째 줄에 4와 3을 곱한 12를 출력하고, 둘째 줄에 4를 3번 반복한 \"444\"를 출력합니다. "
   ]
  },
  {
   "cell_type": "code",
   "execution_count": 22,
   "id": "afd3f60b",
   "metadata": {},
   "outputs": [
    {
     "name": "stdout",
     "output_type": "stream",
     "text": [
      "10\n",
      "22222\n"
     ]
    }
   ],
   "source": [
    "num1, num2 = map(int, input(\"값을 입력하시오:\").split())\n",
    "print(num1 * num2)\n",
    "print(f\"{num1}\"*num2)"
   ]
  },
  {
   "cell_type": "markdown",
   "id": "65ffc958",
   "metadata": {},
   "source": [
    "### 6번  \n",
    "number가 짝수라면 \"짝수\"를, number가 홀수라면 \"홀수\"를 출력하도록 조건문을 작성해주세요"
   ]
  },
  {
   "cell_type": "code",
   "execution_count": 24,
   "id": "ff811e76",
   "metadata": {},
   "outputs": [
    {
     "name": "stdout",
     "output_type": "stream",
     "text": [
      "홀수\n"
     ]
    }
   ],
   "source": [
    "num = int(input(\"정수를 입력하시오:\"))\n",
    "if num % 2 == 0:\n",
    "    print(\"짝수\")\n",
    "else:\n",
    "    print(\"홀수\")"
   ]
  },
  {
   "cell_type": "markdown",
   "id": "70aa6b20",
   "metadata": {},
   "source": [
    "### 7번  \n",
    "입력된 학생의 점수 score에 따라 성적을 A, B, C, D, F로 구분하여 출력하는 코드를 작성해주세요 \n",
    "\n",
    "A : 90 ≤ score  \n",
    "B : 80 ≤ score < 90  \n",
    "C : 70 ≤ score < 80  \n",
    "D : 60 ≤ score < 70  \n",
    "F : score < 60 "
   ]
  },
  {
   "cell_type": "code",
   "execution_count": 25,
   "id": "4ff11ea9",
   "metadata": {},
   "outputs": [
    {
     "name": "stdout",
     "output_type": "stream",
     "text": [
      "F\n"
     ]
    }
   ],
   "source": [
    "score = int(input(\"너의 점수는?: \"))\n",
    "if score>90:\n",
    "    print(\"A\")\n",
    "elif score>=80:\n",
    "    print(\"B\")\n",
    "elif score>=70:\n",
    "    print(\"C\")\n",
    "elif score>=60:\n",
    "    print(\"D\")\n",
    "else:\n",
    "    print(\"F\")"
   ]
  },
  {
   "cell_type": "markdown",
   "id": "50e10a31",
   "metadata": {},
   "source": [
    "### 8번 \n",
    "지민이는 온라인 게임을 하던 도중 갑작스럽게 적을 만났습니다. 지민이의 캐릭터는  \n",
    "마나를 소모하며 공격하는 캐릭터이고 한 번 공격 시 마나 10을 소모하며 대미지는  \n",
    "20입니다. 지민이의 닉네임 my_nic과 적의 닉네임 enemy_nic이 문자열로 주어지고,  \n",
    "지민이의 마나량 mana, 적의 체력 hp가 정수로 주어질 때 지민이가 남은 마나로 적을  \n",
    "쓰러뜨릴 수 있다면 \"my_nic kill enemy_nic\"을 쓰러뜨릴 수 없다면   \n",
    "\"enemy_nic kill my_nic\"을 출력하도록 코드를 작성해보세요. \n",
    "\n",
    "제한사항  \n",
    "머쓱이의 캐릭터는 마나가 10보다 적으면 공격할 수 없습니다.  \n",
    "1 ≤ my_nic의 길이, enemy_nic의 길이 ≤ 10  \n",
    "1 ≤ mana, hp ≤ 1,000  \n",
    "\n",
    "\n",
    "입출력 예  \n",
    "입력 #1  \n",
    "abc  \n",
    "cba  \n",
    "100  \n",
    "200  \n",
    "\n",
    "출력 #1  \n",
    "abc kill cba  \n",
    "\n",
    "입력 #2  \n",
    "\n",
    "jimin  \n",
    "enemy  \n",
    "200  \n",
    "1000  \n",
    "\n",
    "출력 #2  \n",
    "enemy kill jimin  \n",
    "\n",
    "입출력 예 설명 \n",
    "\n",
    "입출력 예 #1   \n",
    "마나 100으로 지민이가 입힐 수 있는 대미지는 총 200입니다. 적의 hp가 200이므로  \n",
    "적을 쓰러뜨릴 수 있습니다. 따라서 \"abc kill cba\"를 출력해야 합니다. \n",
    "\n",
    "입출력 예 #2  \n",
    "마나 200으로 지민이가 입힐 수 있는 대미지는 총 400입니다. 적의 hp가 1000이므로  \n",
    "적을 쓰러뜨릴 수 없습니다. 따라서 \"enemy kill jimin\"을 출력해야 합니다. "
   ]
  },
  {
   "cell_type": "code",
   "execution_count": 26,
   "id": "0ecdafbb",
   "metadata": {},
   "outputs": [
    {
     "name": "stdout",
     "output_type": "stream",
     "text": [
      "\n",
      "제한사항 \n",
      "머쓱이의 캐릭터는 마나가 10보다 적으면 공격할 수 없습니다. \n",
      "1 ≤ my_nic의 길이, enemy_nic의 길이 ≤ 10 \n",
      "1 ≤ mana, hp ≤ 1,000 \n",
      "\n",
      "abc kill cba\n"
     ]
    }
   ],
   "source": [
    "restrict = \"\"\"\n",
    "제한사항 \n",
    "머쓱이의 캐릭터는 마나가 10보다 적으면 공격할 수 없습니다. \n",
    "1 ≤ my_nic의 길이, enemy_nic의 길이 ≤ 10 \n",
    "1 ≤ mana, hp ≤ 1,000 \n",
    "\"\"\"\n",
    "print(restrict)\n",
    "my_nic = input(\"닉네임을 적어주세요:\")\n",
    "enemy_nic = input(\"상대편 닉네임을 적어주세요:\")\n",
    "mana = int(input(\"너의 마나량은?:\"))\n",
    "hp = int(input(\"적의 체력은?:\"))\n",
    "attack_count = mana // 10\n",
    "total_damage = attack_count * 20\n",
    "if total_damage >= hp:\n",
    "    print(f\"{my_nic} kill {enemy_nic}\")\n",
    "else: \n",
    "    print(f\"{enemy_nic} kill {my_nic}\")\n"
   ]
  },
  {
   "cell_type": "markdown",
   "id": "bf1d1eef",
   "metadata": {},
   "source": [
    "### 10번  \n",
    "*을 가로로 a개, 세로로 b개 사용하여 직사각형을 만들려고 합니다. 정수 a, b가   \n",
    "매개변수로 주어질 때, a x b 직사각형을 출력하도록 코드를 작성하세요 "
   ]
  },
  {
   "cell_type": "code",
   "execution_count": 32,
   "id": "549583c9",
   "metadata": {},
   "outputs": [
    {
     "name": "stdout",
     "output_type": "stream",
     "text": [
      "***\n",
      "***\n",
      "***\n",
      "***\n"
     ]
    }
   ],
   "source": [
    "a, b = map(int, input(\"가로 세로 길이를 정하시오:\").split())\n",
    "i=1\n",
    "while i <= b:\n",
    "    print(\"*\" * a)\n",
    "    i += 1"
   ]
  },
  {
   "cell_type": "markdown",
   "id": "06bf80fc",
   "metadata": {},
   "source": [
    "### 11번 \n",
    "\n",
    "떠올리기 업그레이드 미션1 -> 거꾸로 적어 내기  \n",
    "string = \" 이번역은 역삼역, 역삼역입니다. 앞으로 읽어도 역삼역 거꾸로 읽어도 역삼역\"   \n",
    "print(string[::-1]) "
   ]
  },
  {
   "cell_type": "code",
   "execution_count": null,
   "id": "97bb877d",
   "metadata": {},
   "outputs": [],
   "source": []
  }
 ],
 "metadata": {
  "kernelspec": {
   "display_name": "Python 3",
   "language": "python",
   "name": "python3"
  },
  "language_info": {
   "codemirror_mode": {
    "name": "ipython",
    "version": 3
   },
   "file_extension": ".py",
   "mimetype": "text/x-python",
   "name": "python",
   "nbconvert_exporter": "python",
   "pygments_lexer": "ipython3",
   "version": "3.11.8"
  }
 },
 "nbformat": 4,
 "nbformat_minor": 5
}
