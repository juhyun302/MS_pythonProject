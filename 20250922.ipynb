{
 "cells": [
  {
   "cell_type": "markdown",
   "id": "53fa6cd5",
   "metadata": {},
   "source": [
    "# 20250922"
   ]
  },
  {
   "cell_type": "code",
   "execution_count": 1,
   "id": "e1d0fc42",
   "metadata": {},
   "outputs": [
    {
     "name": "stdout",
     "output_type": "stream",
     "text": [
      "(i = 0, j = 0)\n",
      "(i = 0, j = 1)\n",
      "(i = 0, j = 2)\n",
      "(i = 0, j = 3)\n",
      "(i = 0, j = 4)\n",
      "(i = 1, j = 0)\n",
      "(i = 1, j = 1)\n",
      "(i = 1, j = 2)\n",
      "(i = 1, j = 3)\n",
      "(i = 1, j = 4)\n",
      "(i = 2, j = 0)\n",
      "(i = 2, j = 1)\n",
      "(i = 2, j = 2)\n",
      "(i = 2, j = 3)\n",
      "6\n"
     ]
    }
   ],
   "source": [
    "num = 0\n",
    "for i in range(5):\n",
    "    for j in range(5):\n",
    "        print(f\"(i = {i}, j = {j})\")\n",
    "        num = i * j\n",
    "        if i == 2 and j == 3:\n",
    "            break\n",
    "    if i == 2 and j == 3:\n",
    "        break\n",
    "print(num)\n",
    "    "
   ]
  },
  {
   "cell_type": "code",
   "execution_count": null,
   "id": "8d9292dd",
   "metadata": {},
   "outputs": [
    {
     "name": "stdout",
     "output_type": "stream",
     "text": [
      "*\n",
      "**\n",
      "***\n",
      "****\n",
      "*****\n",
      "******\n",
      "*******\n",
      "**"
     ]
    }
   ],
   "source": [
    "# 사용자로 부터 n개의 별의 갯수를 입력받은 뒤\n",
    "# 별을 출력하되 별의 갯수만큼만 출력하다가 별이 다 소진되면 멈추는 코드 작성\n",
    "\n",
    "stars = 0\n",
    "n = int(input(\"별의 갯수를 설정하세요\"))\n",
    "break_all = False\n",
    "\n",
    "for i in range(1,11):\n",
    "    for j in range(i):\n",
    "        stars += 1\n",
    "        if stars > n:\n",
    "            break_all = True\n",
    "            break\n",
    "        print(\"*\", end = '')\n",
    "    if break_all:\n",
    "        break\n",
    "    print()"
   ]
  },
  {
   "cell_type": "markdown",
   "id": "49ccb106",
   "metadata": {},
   "source": [
    "## 리스트"
   ]
  },
  {
   "cell_type": "code",
   "execution_count": null,
   "id": "395e8cd3",
   "metadata": {},
   "outputs": [
    {
     "name": "stdout",
     "output_type": "stream",
     "text": [
      "[1, 2, 3, 4, 5, 6, 7, 8, 9, 10]\n",
      "[1, 2, 3, 4, 5, 1, 2, 3, 4, 5, 1, 2, 3, 4, 5]\n"
     ]
    }
   ],
   "source": [
    "numbers1 = [1,2,3,4,5]\n",
    "numbers2 = [6,7,8,9,10]\n",
    "print(numbers1 + numbers2)\n",
    "print(numbers1 * 3)"
   ]
  },
  {
   "cell_type": "code",
   "execution_count": 16,
   "id": "2b91e212",
   "metadata": {},
   "outputs": [
    {
     "data": {
      "text/plain": [
       "[6, 7, 8, 9, 10, '11', 11]"
      ]
     },
     "execution_count": 16,
     "metadata": {},
     "output_type": "execute_result"
    }
   ],
   "source": [
    "numbers2.append(11)\n",
    "numbers2"
   ]
  },
  {
   "cell_type": "code",
   "execution_count": 17,
   "id": "0e612abd",
   "metadata": {},
   "outputs": [
    {
     "data": {
      "text/plain": [
       "[6, 7, 4, 8, 9, 10, '11', 11]"
      ]
     },
     "execution_count": 17,
     "metadata": {},
     "output_type": "execute_result"
    }
   ],
   "source": [
    "numbers2.insert(2, 4)\n",
    "numbers2"
   ]
  },
  {
   "cell_type": "code",
   "execution_count": 20,
   "id": "624a184c",
   "metadata": {},
   "outputs": [
    {
     "data": {
      "text/plain": [
       "[6, 7, 4, 8, 9, 10, '11', 11, 16, 17]"
      ]
     },
     "execution_count": 20,
     "metadata": {},
     "output_type": "execute_result"
    }
   ],
   "source": [
    "numbers2.extend([16, 17])\n",
    "numbers2"
   ]
  },
  {
   "cell_type": "code",
   "execution_count": 21,
   "id": "59cbd53c",
   "metadata": {},
   "outputs": [
    {
     "data": {
      "text/plain": [
       "17"
      ]
     },
     "execution_count": 21,
     "metadata": {},
     "output_type": "execute_result"
    }
   ],
   "source": [
    "numbers2.pop()"
   ]
  },
  {
   "cell_type": "code",
   "execution_count": 22,
   "id": "cc7acd3f",
   "metadata": {},
   "outputs": [
    {
     "data": {
      "text/plain": [
       "[6, 7, 4, 8, 9, 10, '11', 11, 16]"
      ]
     },
     "execution_count": 22,
     "metadata": {},
     "output_type": "execute_result"
    }
   ],
   "source": [
    "numbers2"
   ]
  },
  {
   "cell_type": "code",
   "execution_count": 23,
   "id": "7b967cc4",
   "metadata": {},
   "outputs": [
    {
     "data": {
      "text/plain": [
       "[6, 7, 8, 9, 10, '11', 11, 16]"
      ]
     },
     "execution_count": 23,
     "metadata": {},
     "output_type": "execute_result"
    }
   ],
   "source": [
    "numbers2.pop(2)\n",
    "numbers2"
   ]
  },
  {
   "cell_type": "code",
   "execution_count": 25,
   "id": "4db48091",
   "metadata": {},
   "outputs": [
    {
     "name": "stdout",
     "output_type": "stream",
     "text": [
      "가나다\n",
      "다림질\n",
      "질륨\n",
      "리\n",
      "땡\n"
     ]
    }
   ],
   "source": [
    "var = '가나다'\n",
    "print(var)\n",
    "while True:\n",
    "    answer = input(\"끝말잇기 단어를 입력: \")\n",
    "    print(answer)\n",
    "    if answer[0] == var[-1]:\n",
    "        var = answer\n",
    "    else:\n",
    "        print(\"땡\")\n",
    "        break"
   ]
  },
  {
   "cell_type": "code",
   "execution_count": 29,
   "id": "0909768d",
   "metadata": {},
   "outputs": [
    {
     "data": {
      "text/plain": [
       "[1, 3, 0, 1]"
      ]
     },
     "execution_count": 29,
     "metadata": {},
     "output_type": "execute_result"
    }
   ],
   "source": [
    "# 리스트 numbers 각 원소는 숫자 0~9로 이루어져있습니다. 이때, numbers에서 연속적으로 나타나는 숫자는 \n",
    "# 하나만 남기고 전부 제거하려 합니다. 단, 제거된 후 남은수들을 반환할 때는 \n",
    "# numbers의 원소들의 순서를 유지해야합니다\n",
    "# ex) numbers = [1, 1, 3, 3, 0, 1, 1] -> [1, 3, 0, 1]\n",
    "# ex) numbers = [4, 4, 4, 3, 3] -> [4, 3]\n",
    "\n",
    "numbers = [1, 1, 3, 3, 0, 1, 1]\n",
    "answer = []\n",
    "comp = numbers[0]\n",
    "answer.append(comp)\n",
    "for i in numbers:\n",
    "    if comp != i:\n",
    "        comp = i\n",
    "        answer.append(comp)\n",
    "answer"
   ]
  },
  {
   "cell_type": "markdown",
   "id": "a1c037e9",
   "metadata": {},
   "source": [
    "# dictionary"
   ]
  },
  {
   "cell_type": "code",
   "execution_count": 38,
   "id": "c8f8ed0e",
   "metadata": {},
   "outputs": [
    {
     "data": {
      "text/plain": [
       "dict"
      ]
     },
     "execution_count": 38,
     "metadata": {},
     "output_type": "execute_result"
    }
   ],
   "source": [
    "student = {'name' : 'Juhyun', 'age' : '25', 'hobby' : 'exercise'}\n",
    "type(student)\n"
   ]
  },
  {
   "cell_type": "code",
   "execution_count": 31,
   "id": "fd75f6c2",
   "metadata": {},
   "outputs": [],
   "source": [
    "mydict = {}\n",
    "mydict = dict()"
   ]
  },
  {
   "cell_type": "code",
   "execution_count": 36,
   "id": "15066cd5",
   "metadata": {},
   "outputs": [
    {
     "data": {
      "text/plain": [
       "'25'"
      ]
     },
     "execution_count": 36,
     "metadata": {},
     "output_type": "execute_result"
    }
   ],
   "source": [
    "student['age']"
   ]
  },
  {
   "cell_type": "code",
   "execution_count": 43,
   "id": "6c043f3a",
   "metadata": {},
   "outputs": [
    {
     "name": "stdout",
     "output_type": "stream",
     "text": [
      "dict_keys(['name', 'age', 'hobby'])\n",
      "('name', 'Juhyun')\n",
      "('age', '25')\n",
      "('hobby', 'exercise')\n"
     ]
    }
   ],
   "source": [
    "print(student.keys())\n",
    "for i in student.items():\n",
    "    print(i)"
   ]
  },
  {
   "cell_type": "code",
   "execution_count": 44,
   "id": "8b3fc944",
   "metadata": {},
   "outputs": [
    {
     "data": {
      "text/plain": [
       "{'name': 'bokyung', 'age': '25', 'hobby': 'exercise'}"
      ]
     },
     "execution_count": 44,
     "metadata": {},
     "output_type": "execute_result"
    }
   ],
   "source": [
    "student['name'] = 'bokyung'\n",
    "student"
   ]
  },
  {
   "cell_type": "code",
   "execution_count": 45,
   "id": "d0405c3d",
   "metadata": {},
   "outputs": [
    {
     "data": {
      "text/plain": [
       "{'name': 'bokyung', 'age': '25', 'hobby': 'exercise', 'address': '용인시 기흥구'}"
      ]
     },
     "execution_count": 45,
     "metadata": {},
     "output_type": "execute_result"
    }
   ],
   "source": [
    "student['address'] = '용인시 기흥구'\n",
    "student"
   ]
  },
  {
   "cell_type": "code",
   "execution_count": 48,
   "id": "daee0fad",
   "metadata": {},
   "outputs": [
    {
     "name": "stdout",
     "output_type": "stream",
     "text": [
      "None\n"
     ]
    }
   ],
   "source": [
    "print(student.get('address2'))"
   ]
  },
  {
   "cell_type": "code",
   "execution_count": 49,
   "id": "36ac5165",
   "metadata": {},
   "outputs": [
    {
     "data": {
      "text/plain": [
       "{'name': 'bokyung', 'age': '25', 'hobby': 'exercise'}"
      ]
     },
     "execution_count": 49,
     "metadata": {},
     "output_type": "execute_result"
    }
   ],
   "source": [
    "student.popitem()\n",
    "student"
   ]
  },
  {
   "cell_type": "code",
   "execution_count": null,
   "id": "03e63c88",
   "metadata": {},
   "outputs": [],
   "source": [
    "for i, j in student.items():\n",
    "    print"
   ]
  },
  {
   "cell_type": "markdown",
   "id": "5b15c7c9",
   "metadata": {},
   "source": [
    "### 13 –2 번   \n",
    "모스부호   \n",
    "문자열 letter가 주어질 때, letter를 영어 소문자로 바꾼 문자열을 출력 하도록 코드작성   \n",
    "모스부호는 다음과 같습니다.  \n",
    "morse = { \n",
    "\n",
    "    '.-':'a','-...':'b','-.-.':'c','-..':'d','.':'e','..-.':'f', \n",
    "\n",
    "    '--.':'g','....':'h','..':'i','.---':'j','-.-':'k','.-..':'l', \n",
    "\n",
    "    '--':'m','-.':'n','---':'o','.--.':'p','--.-':'q','.-.':'r', \n",
    "\n",
    "    '...':'s','-':'t','..-':'u','...-':'v','.--':'w','-..-':'x', \n",
    "\n",
    "    '-.--':'y','--..':'z'  \n",
    "} \n",
    "\n",
    "입출력 예  \n",
    "letter  result  \n",
    "\".... . .-.. .-.. ---\"  \"hello\"  \n",
    "\".--. -.-- - .... --- -.\"   \"python\" "
   ]
  },
  {
   "cell_type": "code",
   "execution_count": 58,
   "id": "cd88037f",
   "metadata": {},
   "outputs": [
    {
     "name": "stdout",
     "output_type": "stream",
     "text": [
      "hello"
     ]
    }
   ],
   "source": [
    "morse = { \n",
    "    '.-':'a','-...':'b','-.-.':'c','-..':'d','.':'e','..-.':'f', \n",
    "\n",
    "    '--.':'g','....':'h','..':'i','.---':'j','-.-':'k','.-..':'l', \n",
    "\n",
    "    '--':'m','-.':'n','---':'o','.--.':'p','--.-':'q','.-.':'r', \n",
    "\n",
    "    '...':'s','-':'t','..-':'u','...-':'v','.--':'w','-..-':'x', \n",
    "\n",
    "    '-.--':'y','--..':'z' \n",
    "} \n",
    "\n",
    "letter = input(\"모스부호를 입력하시오: \").split(' ')\n",
    "for i in letter:\n",
    "    print(morse[i], end='')"
   ]
  },
  {
   "cell_type": "markdown",
   "id": "077efc8f",
   "metadata": {},
   "source": [
    "## Set 자료형\n",
    "중복을 허용하지 않고, 순서가 없는 데이터"
   ]
  },
  {
   "cell_type": "code",
   "execution_count": null,
   "id": "6d7b9bd9",
   "metadata": {},
   "outputs": [
    {
     "data": {
      "text/plain": [
       "set"
      ]
     },
     "execution_count": 61,
     "metadata": {},
     "output_type": "execute_result"
    }
   ],
   "source": [
    "s={1, 2, 3, 4, 2, 3}\n",
    "type(s)"
   ]
  },
  {
   "cell_type": "code",
   "execution_count": 62,
   "id": "81a24dba",
   "metadata": {},
   "outputs": [
    {
     "ename": "TypeError",
     "evalue": "'set' object is not subscriptable",
     "output_type": "error",
     "traceback": [
      "\u001b[31m---------------------------------------------------------------------------\u001b[39m",
      "\u001b[31mTypeError\u001b[39m                                 Traceback (most recent call last)",
      "\u001b[36mCell\u001b[39m\u001b[36m \u001b[39m\u001b[32mIn[62]\u001b[39m\u001b[32m, line 1\u001b[39m\n\u001b[32m----> \u001b[39m\u001b[32m1\u001b[39m \u001b[43ms\u001b[49m\u001b[43m[\u001b[49m\u001b[32;43m0\u001b[39;49m\u001b[43m]\u001b[49m\n",
      "\u001b[31mTypeError\u001b[39m: 'set' object is not subscriptable"
     ]
    }
   ],
   "source": [
    "s[0]"
   ]
  },
  {
   "cell_type": "code",
   "execution_count": 63,
   "id": "81107eb1",
   "metadata": {},
   "outputs": [
    {
     "data": {
      "text/plain": [
       "{1, 2, 3, 4, 5}"
      ]
     },
     "execution_count": 63,
     "metadata": {},
     "output_type": "execute_result"
    }
   ],
   "source": [
    "s.add(5)\n",
    "s"
   ]
  },
  {
   "cell_type": "code",
   "execution_count": 67,
   "id": "bd98bae1",
   "metadata": {},
   "outputs": [
    {
     "name": "stdout",
     "output_type": "stream",
     "text": [
      "[1, 2, 3, 4, 5, 2, 6, 3, 1, 2]\n"
     ]
    },
    {
     "data": {
      "text/plain": [
       "{1, 2, 3, 4, 5, 6}"
      ]
     },
     "execution_count": 67,
     "metadata": {},
     "output_type": "execute_result"
    }
   ],
   "source": [
    "my_list = [1, 2, 3, 4, 5, 2, 6, 3 ,1, 2]\n",
    "print(my_list)\n",
    "set(my_list)"
   ]
  },
  {
   "cell_type": "code",
   "execution_count": 68,
   "id": "c0b553fb",
   "metadata": {},
   "outputs": [
    {
     "data": {
      "text/plain": [
       "[1, 2, 3, 4, 5, 6]"
      ]
     },
     "execution_count": 68,
     "metadata": {},
     "output_type": "execute_result"
    }
   ],
   "source": [
    "list(set(my_list))"
   ]
  },
  {
   "cell_type": "code",
   "execution_count": 69,
   "id": "e0bba5cf",
   "metadata": {},
   "outputs": [
    {
     "data": {
      "text/plain": [
       "{1, 2, 3, 4, 5, 6}"
      ]
     },
     "execution_count": 69,
     "metadata": {},
     "output_type": "execute_result"
    }
   ],
   "source": [
    "a = {1, 2, 3, 4}\n",
    "b = {3, 4, 5, 6}\n",
    "a | b"
   ]
  },
  {
   "cell_type": "code",
   "execution_count": 70,
   "id": "3444c36e",
   "metadata": {},
   "outputs": [
    {
     "data": {
      "text/plain": [
       "{1, 2, 3, 4, 5, 6}"
      ]
     },
     "execution_count": 70,
     "metadata": {},
     "output_type": "execute_result"
    }
   ],
   "source": [
    "a.union(b)"
   ]
  },
  {
   "cell_type": "code",
   "execution_count": 71,
   "id": "0616768c",
   "metadata": {},
   "outputs": [
    {
     "data": {
      "text/plain": [
       "{1, 2}"
      ]
     },
     "execution_count": 71,
     "metadata": {},
     "output_type": "execute_result"
    }
   ],
   "source": [
    "a.difference(b)\n",
    "a-b"
   ]
  },
  {
   "cell_type": "code",
   "execution_count": 77,
   "id": "9c5b6428",
   "metadata": {},
   "outputs": [
    {
     "data": {
      "text/plain": [
       "['크림치즈', '누드초코', '초코', '크런키', '아몬드', '화이트쿠키']"
      ]
     },
     "execution_count": 77,
     "metadata": {},
     "output_type": "execute_result"
    }
   ],
   "source": [
    "pepero = ('누드초코', '아몬드', '초코', '크런키', '크림치즈', '화이트쿠키')\n",
    "answer = list(set(pepero))\n",
    "answer"
   ]
  },
  {
   "cell_type": "code",
   "execution_count": 85,
   "id": "7a3ab6f8",
   "metadata": {},
   "outputs": [
    {
     "data": {
      "text/plain": [
       "7"
      ]
     },
     "execution_count": 85,
     "metadata": {},
     "output_type": "execute_result"
    }
   ],
   "source": [
    "words = \"culture experience symbol symbol education symbol effect education affair liberty liberty affair\"\n",
    "len(set(words.split()))"
   ]
  },
  {
   "cell_type": "code",
   "execution_count": 86,
   "id": "5f2a214a",
   "metadata": {},
   "outputs": [],
   "source": [
    "def my_sum(a, b):\n",
    "    result = a+b\n",
    "    return result"
   ]
  },
  {
   "cell_type": "code",
   "execution_count": 90,
   "id": "7949ef53",
   "metadata": {},
   "outputs": [
    {
     "data": {
      "text/plain": [
       "13"
      ]
     },
     "execution_count": 90,
     "metadata": {},
     "output_type": "execute_result"
    }
   ],
   "source": [
    "def num_max(a, b, c):\n",
    "    max_val = a\n",
    "    if b > max_val:\n",
    "        max_val = b\n",
    "    if c > max_val:\n",
    "        max_val = c\n",
    "    return max_val\n",
    "num = num_max(13, 7, 12)\n",
    "num"
   ]
  },
  {
   "cell_type": "code",
   "execution_count": 97,
   "id": "05a708db",
   "metadata": {},
   "outputs": [
    {
     "data": {
      "text/plain": [
       "24"
      ]
     },
     "execution_count": 97,
     "metadata": {},
     "output_type": "execute_result"
    }
   ],
   "source": [
    "def num_min(arr):\n",
    "    min_val = arr[0]\n",
    "    for num in arr[1:]:\n",
    "        if num < min_val:\n",
    "            min_val = num\n",
    "    return min_val\n",
    "\n",
    "testArray = [52, 273, 32, 103, 275, 24, 57]\n",
    "num_min(testArray)"
   ]
  },
  {
   "cell_type": "code",
   "execution_count": null,
   "id": "07c226f4",
   "metadata": {},
   "outputs": [],
   "source": []
  }
 ],
 "metadata": {
  "kernelspec": {
   "display_name": "Python 3",
   "language": "python",
   "name": "python3"
  },
  "language_info": {
   "codemirror_mode": {
    "name": "ipython",
    "version": 3
   },
   "file_extension": ".py",
   "mimetype": "text/x-python",
   "name": "python",
   "nbconvert_exporter": "python",
   "pygments_lexer": "ipython3",
   "version": "3.11.8"
  }
 },
 "nbformat": 4,
 "nbformat_minor": 5
}
